{
 "cells": [
  {
   "cell_type": "code",
   "execution_count": 48,
   "metadata": {},
   "outputs": [
    {
     "name": "stdout",
     "output_type": "stream",
     "text": [
      "<class 'pandas.core.frame.DataFrame'>\n",
      "RangeIndex: 506 entries, 0 to 505\n",
      "Data columns (total 14 columns):\n",
      " #   Column   Non-Null Count  Dtype  \n",
      "---  ------   --------------  -----  \n",
      " 0   crim     506 non-null    float64\n",
      " 1   zn       506 non-null    float64\n",
      " 2   indus    506 non-null    float64\n",
      " 3   chas     506 non-null    int64  \n",
      " 4   nox      506 non-null    float64\n",
      " 5   rm       501 non-null    float64\n",
      " 6   age      506 non-null    float64\n",
      " 7   dis      506 non-null    float64\n",
      " 8   rad      506 non-null    int64  \n",
      " 9   tax      506 non-null    int64  \n",
      " 10  ptratio  506 non-null    float64\n",
      " 11  b        506 non-null    float64\n",
      " 12  lstat    506 non-null    float64\n",
      " 13  medv     506 non-null    float64\n",
      "dtypes: float64(11), int64(3)\n",
      "memory usage: 55.5 KB\n",
      "None\n"
     ]
    }
   ],
   "source": [
    "import numpy as np\n",
    "import pandas as pd\n",
    "\n",
    "\n",
    "df2 = pd.read_csv('BostonHousing.csv')\n",
    "print(df2.info())\n"
   ]
  },
  {
   "cell_type": "code",
   "execution_count": 49,
   "metadata": {},
   "outputs": [
    {
     "data": {
      "text/plain": [
       "crim       0\n",
       "zn         0\n",
       "indus      0\n",
       "chas       0\n",
       "nox        0\n",
       "rm         5\n",
       "age        0\n",
       "dis        0\n",
       "rad        0\n",
       "tax        0\n",
       "ptratio    0\n",
       "b          0\n",
       "lstat      0\n",
       "medv       0\n",
       "dtype: int64"
      ]
     },
     "execution_count": 49,
     "metadata": {},
     "output_type": "execute_result"
    }
   ],
   "source": [
    "df2.isna().sum()"
   ]
  },
  {
   "cell_type": "code",
   "execution_count": 50,
   "metadata": {},
   "outputs": [],
   "source": [
    "df2.dropna(inplace = True)"
   ]
  },
  {
   "cell_type": "code",
   "execution_count": 51,
   "metadata": {},
   "outputs": [
    {
     "data": {
      "text/plain": [
       "crim       0\n",
       "zn         0\n",
       "indus      0\n",
       "chas       0\n",
       "nox        0\n",
       "rm         0\n",
       "age        0\n",
       "dis        0\n",
       "rad        0\n",
       "tax        0\n",
       "ptratio    0\n",
       "b          0\n",
       "lstat      0\n",
       "medv       0\n",
       "dtype: int64"
      ]
     },
     "execution_count": 51,
     "metadata": {},
     "output_type": "execute_result"
    }
   ],
   "source": [
    "df2.isna().sum()"
   ]
  },
  {
   "cell_type": "code",
   "execution_count": 52,
   "metadata": {},
   "outputs": [
    {
     "data": {
      "text/plain": [
       "(501, 14)"
      ]
     },
     "execution_count": 52,
     "metadata": {},
     "output_type": "execute_result"
    }
   ],
   "source": [
    "df2.shape"
   ]
  },
  {
   "cell_type": "code",
   "execution_count": 53,
   "metadata": {},
   "outputs": [],
   "source": [
    "X = df2.drop('medv', axis = 1)\n",
    "y = df2['medv']"
   ]
  },
  {
   "cell_type": "code",
   "execution_count": 54,
   "metadata": {},
   "outputs": [],
   "source": [
    "import numpy as np\n",
    "import pandas as pd\n",
    "\n",
    "from sklearn.model_selection import train_test_split\n",
    "from sklearn.preprocessing import StandardScaler\n",
    "from sklearn.linear_model import LinearRegression\n",
    "from sklearn.neighbors import KNeighborsRegressor\n",
    "from sklearn.tree import DecisionTreeRegressor\n",
    "from sklearn.ensemble import RandomForestRegressor\n",
    "from sklearn.svm import SVR\n",
    "\n",
    "from sklearn.metrics import r2_score"
   ]
  },
  {
   "cell_type": "code",
   "execution_count": 55,
   "metadata": {},
   "outputs": [],
   "source": [
    "X_train, X_test, y_train, y_test = train_test_split(X,y,test_size = 0.2, random_state = 42)"
   ]
  },
  {
   "cell_type": "code",
   "execution_count": 56,
   "metadata": {},
   "outputs": [],
   "source": [
    "from sklearn.preprocessing import StandardScaler\n",
    "\n",
    "class MyLinearRegression:\n",
    "    def __init__(self, learning_rate=0.01, iterations=1000):\n",
    "        self.learning_rate = learning_rate\n",
    "        self.iterations = iterations\n",
    "        self.theta = None\n",
    "        self.scaler = StandardScaler() \n",
    "        \n",
    "    def fit(self, X, y):\n",
    "        X_scaled = self.scaler.fit_transform(X)  \n",
    "        m, n = X_scaled.shape\n",
    "        self.theta = np.zeros(n + 1)  \n",
    "        X_b = np.hstack([np.ones((m, 1)), X_scaled]) \n",
    " \n",
    "        for iteration in range(self.iterations):\n",
    "            predictions = X_b.dot(self.theta)\n",
    "            errors = predictions - y\n",
    "            gradients = 2/m * X_b.T.dot(errors)\n",
    "            self.theta -= self.learning_rate * gradients\n",
    "            if iteration % 100 == 0: \n",
    "                print(f\"Iteration {iteration}: Gradient norm = {np.linalg.norm(gradients)}\")\n",
    "\n",
    "    def predict(self, X_new):\n",
    "        X_new_scaled = self.scaler.transform(X_new) \n",
    "        X_new_b = np.hstack([np.ones((X_new_scaled.shape[0], 1)), X_new_scaled])\n",
    "        return X_new_b.dot(self.theta)"
   ]
  },
  {
   "cell_type": "code",
   "execution_count": 57,
   "metadata": {},
   "outputs": [
    {
     "name": "stdout",
     "output_type": "stream",
     "text": [
      "Iteration 0: Gradient norm = 54.47902639689538\n",
      "Iteration 100: Gradient norm = 6.275780094176261\n",
      "Iteration 200: Gradient norm = 1.0593754085704665\n",
      "Iteration 300: Gradient norm = 0.48865438495952507\n",
      "Iteration 400: Gradient norm = 0.3593279535034909\n",
      "Iteration 500: Gradient norm = 0.2818196707990781\n",
      "Iteration 600: Gradient norm = 0.22856172148562728\n",
      "Iteration 700: Gradient norm = 0.19037872028234987\n",
      "Iteration 800: Gradient norm = 0.16188205638672143\n",
      "Iteration 900: Gradient norm = 0.13974971181618065\n"
     ]
    }
   ],
   "source": [
    "learning_rate=0.01\n",
    "iterations=1000\n",
    "\n",
    "lr = MyLinearRegression(learning_rate, iterations)\n",
    "lr.fit(X_train, y_train)"
   ]
  },
  {
   "cell_type": "code",
   "execution_count": 58,
   "metadata": {},
   "outputs": [],
   "source": [
    "y_pred1 = lr.predict(X_test)"
   ]
  },
  {
   "cell_type": "code",
   "execution_count": 59,
   "metadata": {},
   "outputs": [],
   "source": [
    "r2 = r2_score(y_test,y_pred1)"
   ]
  },
  {
   "cell_type": "code",
   "execution_count": 60,
   "metadata": {},
   "outputs": [],
   "source": [
    "df3 = pd.DataFrame(columns=['Method', 'R2 Score','Description'])"
   ]
  },
  {
   "cell_type": "code",
   "execution_count": 61,
   "metadata": {},
   "outputs": [],
   "source": [
    "new_index = len(df3)  \n",
    "df3.loc[new_index] = ['Linear Regression', r2,\"learning_rate=0.01 and iterations=1000\"]"
   ]
  },
  {
   "cell_type": "code",
   "execution_count": 62,
   "metadata": {},
   "outputs": [
    {
     "name": "stdout",
     "output_type": "stream",
     "text": [
      "              Method  R2 Score                             Description\n",
      "0  Linear Regression  0.717608  learning_rate=0.01 and iterations=1000\n"
     ]
    }
   ],
   "source": [
    "print(df3)"
   ]
  },
  {
   "cell_type": "code",
   "execution_count": 63,
   "metadata": {},
   "outputs": [],
   "source": [
    "class MyKNeighborsRegressor:\n",
    "    def __init__(self, k=3):\n",
    "        self.k = k\n",
    "        self.X_train = None\n",
    "        self.y_train = None\n",
    "\n",
    "    def fit(self, X, y):\n",
    "        self.X_train = X\n",
    "        self.y_train = y\n",
    "\n",
    "    def predict(self, X_new):\n",
    "        predictions = []\n",
    "        for index, x in X_new.iterrows():\n",
    "            distances = self.X_train.apply(lambda row: np.linalg.norm(row - x), axis=1)\n",
    "            k_indices = distances.nsmallest(self.k).index\n",
    "            k_nearest_labels = self.y_train.loc[k_indices]\n",
    "            predictions.append(k_nearest_labels.mean())\n",
    "        return pd.Series(predictions)\n"
   ]
  },
  {
   "cell_type": "code",
   "execution_count": 64,
   "metadata": {},
   "outputs": [],
   "source": [
    "knn = MyKNeighborsRegressor(k=3)\n",
    "knn.fit(X_train, y_train)\n",
    "y_pred2 = knn.predict(X_test)"
   ]
  },
  {
   "cell_type": "code",
   "execution_count": 65,
   "metadata": {},
   "outputs": [],
   "source": [
    "r2 = r2_score(y_test,y_pred2)"
   ]
  },
  {
   "cell_type": "code",
   "execution_count": 66,
   "metadata": {},
   "outputs": [],
   "source": [
    "new_index = len(df3)  \n",
    "df3.loc[new_index] = ['KNeighborsRegressor', r2,\"k=3\"]\n"
   ]
  },
  {
   "cell_type": "code",
   "execution_count": 67,
   "metadata": {},
   "outputs": [
    {
     "name": "stdout",
     "output_type": "stream",
     "text": [
      "                Method  R2 Score                             Description\n",
      "0    Linear Regression  0.717608  learning_rate=0.01 and iterations=1000\n",
      "1  KNeighborsRegressor  0.461170                                     k=3\n"
     ]
    }
   ],
   "source": [
    "print(df3)"
   ]
  },
  {
   "cell_type": "code",
   "execution_count": 68,
   "metadata": {},
   "outputs": [],
   "source": [
    "class MyDecisionTreeRegressor:\n",
    "    def __init__(self, max_depth=3, random_state=None):\n",
    "        self.max_depth = max_depth\n",
    "        self.random_state = random_state\n",
    "        self.tree = {}\n",
    "\n",
    "    def fit(self, X, y):\n",
    "        data = X.copy()\n",
    "        data['target'] = y\n",
    "        self.tree = self._build_tree(data, depth=0)\n",
    "\n",
    "    def _build_tree(self, data, depth):\n",
    "        if depth >= self.max_depth or len(data) <= 2:\n",
    "            return {'value': data['target'].mean()}\n",
    "\n",
    "        best_feature, best_value = self._best_split(data)\n",
    "\n",
    "        left_split = data[data[best_feature] <= best_value]\n",
    "        right_split = data[data[best_feature] > best_value]\n",
    "\n",
    "        left_tree = self._build_tree(left_split, depth + 1)\n",
    "        right_tree = self._build_tree(right_split, depth + 1)\n",
    "\n",
    "        return {'feature': best_feature, 'value': best_value, 'left': left_tree, 'right': right_tree}\n",
    "\n",
    "    def _best_split(self, data):\n",
    "        best_variance = float('inf')\n",
    "        best_feature = None\n",
    "        best_value = None\n",
    "\n",
    "        for feature in data.columns[:-1]: \n",
    "            value = data[feature].median()\n",
    "            left_split = data[data[feature] <= value]\n",
    "            right_split = data[data[feature] > value]\n",
    "            variance = self._calculate_variance_reduction(data['target'], left_split['target'], right_split['target'])\n",
    "\n",
    "            if variance < best_variance:\n",
    "                best_variance = variance\n",
    "                best_feature = feature\n",
    "                best_value = value\n",
    "\n",
    "        return best_feature, best_value\n",
    "\n",
    "    def _calculate_variance_reduction(self, overall_target, left_target, right_target):\n",
    "        weight_left = len(left_target) / len(overall_target)\n",
    "        weight_right = len(right_target) / len(overall_target)\n",
    "        variance_reduction = overall_target.var() - (weight_left * left_target.var() + weight_right * right_target.var())\n",
    "        return variance_reduction\n",
    "\n",
    "    def predict(self, X):\n",
    "        predictions = X.apply(self._predict_single, axis=1)\n",
    "        return predictions\n",
    "\n",
    "    def _predict_single(self, x):\n",
    "        node = self.tree\n",
    "        while 'feature' in node:\n",
    "            if x[node['feature']] <= node['value']:\n",
    "                node = node['left']\n",
    "            else:\n",
    "                node = node['right']\n",
    "        return node['value']"
   ]
  },
  {
   "cell_type": "code",
   "execution_count": 69,
   "metadata": {},
   "outputs": [],
   "source": [
    "tree = MyDecisionTreeRegressor(max_depth=3, random_state=42)\n",
    "tree.fit(X_train, y_train)"
   ]
  },
  {
   "cell_type": "code",
   "execution_count": 70,
   "metadata": {},
   "outputs": [],
   "source": [
    "y_pred3 = tree.predict(X_test)"
   ]
  },
  {
   "cell_type": "code",
   "execution_count": 71,
   "metadata": {},
   "outputs": [],
   "source": [
    "r2 = r2_score(y_test, y_pred3)"
   ]
  },
  {
   "cell_type": "code",
   "execution_count": 72,
   "metadata": {},
   "outputs": [],
   "source": [
    "new_index = len(df3)  \n",
    "df3.loc[new_index] = ['DecisionTreeRegressor', r2,\"max_depth=3, random_state=42\"]"
   ]
  },
  {
   "cell_type": "code",
   "execution_count": 73,
   "metadata": {},
   "outputs": [
    {
     "name": "stdout",
     "output_type": "stream",
     "text": [
      "                  Method  R2 Score                             Description\n",
      "0      Linear Regression  0.717608  learning_rate=0.01 and iterations=1000\n",
      "1    KNeighborsRegressor  0.461170                                     k=3\n",
      "2  DecisionTreeRegressor  0.106680            max_depth=3, random_state=42\n"
     ]
    }
   ],
   "source": [
    "print(df3)"
   ]
  },
  {
   "cell_type": "code",
   "execution_count": 74,
   "metadata": {},
   "outputs": [],
   "source": [
    "from sklearn.utils import resample\n",
    "\n",
    "class MyDecisionTreeRegressor:\n",
    "    def __init__(self, max_depth=3):\n",
    "        self.max_depth = max_depth\n",
    "        self.tree = {}\n",
    "\n",
    "    def fit(self, X, y):\n",
    "       \n",
    "        data = pd.concat([X, y.rename('target')], axis=1)  \n",
    "        self.tree = self._build_tree(data, 0)\n",
    "\n",
    "    def _build_tree(self, data, depth):\n",
    "        if depth >= self.max_depth or data.shape[0] <= 1:\n",
    "            return {'value': data['target'].mean()}\n",
    "        else:\n",
    "            best_feature, best_threshold = self._find_best_split(data)\n",
    "            left = data[data[best_feature] <= best_threshold]\n",
    "            right = data[data[best_feature] > best_threshold]\n",
    "            return {\n",
    "                'feature': best_feature,\n",
    "                'threshold': best_threshold,\n",
    "                'left': self._build_tree(left, depth + 1),\n",
    "                'right': self._build_tree(right, depth + 1)\n",
    "            }\n",
    "\n",
    "    def _find_best_split(self, data):\n",
    "        best_feature = np.random.choice(data.columns[:-1])\n",
    "        best_threshold = data[best_feature].median()\n",
    "        return best_feature, best_threshold\n",
    "\n",
    "    def predict(self, X):\n",
    "        results = [self._predict_row(row, self.tree) for _, row in X.iterrows()]\n",
    "        return np.array(results)\n",
    "\n",
    "    def _predict_row(self, row, node):\n",
    "        if 'value' in node:\n",
    "            return node['value']\n",
    "        if row[node['feature']] <= node['threshold']:\n",
    "            return self._predict_row(row, node['left'])\n",
    "        else:\n",
    "            return self._predict_row(row, node['right'])\n",
    "\n",
    "class MyRandomForestRegressor:\n",
    "    def __init__(self, n_estimators=10, max_depth=3):\n",
    "        self.n_estimators = n_estimators\n",
    "        self.max_depth = max_depth\n",
    "        self.trees = []\n",
    "\n",
    "    def fit(self, X, y):\n",
    "        for _ in range(self.n_estimators):\n",
    "            sample_X, sample_y = resample(X, y)\n",
    "            tree = MyDecisionTreeRegressor(max_depth=self.max_depth)\n",
    "            tree.fit(sample_X, sample_y)\n",
    "            self.trees.append(tree)\n",
    "\n",
    "    def predict(self, X):\n",
    "        tree_preds = [tree.predict(X) for tree in self.trees]\n",
    "        return np.mean(tree_preds, axis=0)\n"
   ]
  },
  {
   "cell_type": "code",
   "execution_count": 75,
   "metadata": {},
   "outputs": [],
   "source": [
    "\n",
    "\n",
    "rf_regressor = MyRandomForestRegressor(n_estimators=10, max_depth=3)\n",
    "rf_regressor.fit(X_train, y_train)"
   ]
  },
  {
   "cell_type": "code",
   "execution_count": 76,
   "metadata": {},
   "outputs": [],
   "source": [
    "y_pred4 = rf_regressor.predict(X_test)"
   ]
  },
  {
   "cell_type": "code",
   "execution_count": 77,
   "metadata": {},
   "outputs": [
    {
     "name": "stdout",
     "output_type": "stream",
     "text": [
      "NaNs in predictions: False\n",
      "NaNs in test labels: False\n",
      "R^2 score: 0.45084993531849127\n"
     ]
    }
   ],
   "source": [
    "nan_in_pred = np.isnan(y_pred4).any()\n",
    "nan_in_test = np.isnan(y_test).any()\n",
    "\n",
    "print(\"NaNs in predictions:\", nan_in_pred)\n",
    "print(\"NaNs in test labels:\", nan_in_test)\n",
    "\n",
    "\n",
    "if nan_in_pred or nan_in_test:\n",
    "    valid_indices = ~np.isnan(y_pred4) & ~np.isnan(y_test)\n",
    "    y_pred_clean = y_pred4[valid_indices]\n",
    "    y_test_clean = y_test[valid_indices]\n",
    "else:\n",
    "    y_pred_clean = y_pred4\n",
    "    y_test_clean = y_test\n",
    "\n",
    "r2 = r2_score(y_test_clean, y_pred_clean)\n",
    "print(\"R^2 score:\", r2)\n"
   ]
  },
  {
   "cell_type": "code",
   "execution_count": 78,
   "metadata": {},
   "outputs": [],
   "source": [
    "new_index = len(df3)  \n",
    "df3.loc[new_index] = ['RandomForestRegressor', r2,\"n_estimators=10, max_depth=3\"]"
   ]
  },
  {
   "cell_type": "code",
   "execution_count": 79,
   "metadata": {},
   "outputs": [
    {
     "name": "stdout",
     "output_type": "stream",
     "text": [
      "                  Method  R2 Score                             Description\n",
      "0      Linear Regression  0.717608  learning_rate=0.01 and iterations=1000\n",
      "1    KNeighborsRegressor  0.461170                                     k=3\n",
      "2  DecisionTreeRegressor  0.106680            max_depth=3, random_state=42\n",
      "3  RandomForestRegressor  0.450850            n_estimators=10, max_depth=3\n"
     ]
    }
   ],
   "source": [
    "print(df3)"
   ]
  },
  {
   "cell_type": "code",
   "execution_count": 80,
   "metadata": {},
   "outputs": [],
   "source": [
    "class MyLinearSVMRegressor:\n",
    "    def __init__(self, learning_rate=0.01, epochs=1000, C=1.0):\n",
    "        self.learning_rate = learning_rate\n",
    "        self.epochs = epochs\n",
    "        self.C = C \n",
    "        self.weights = None\n",
    "        self.bias = 0\n",
    "\n",
    "    def fit(self, X, y):\n",
    "        n_samples, n_features = X.shape\n",
    "        self.weights = np.zeros(n_features)\n",
    "\n",
    "        X_np = X.to_numpy()\n",
    "        y_np = y.to_numpy()\n",
    "\n",
    "        for _ in range(self.epochs):\n",
    "            for idx, x_i in enumerate(X_np):\n",
    "                condition = y_np[idx] - np.dot(x_i, self.weights) - self.bias\n",
    "                if condition > 1:\n",
    "                    self.weights -= self.learning_rate * (2 * self.C * self.weights)\n",
    "                    self.bias -= self.learning_rate * (2 * self.C * self.bias)\n",
    "                else:\n",
    "                    self.weights -= self.learning_rate * (2 * self.C * self.weights - np.dot(x_i, y_np[idx]))\n",
    "                    self.bias -= self.learning_rate * (2 * self.C * self.bias - y_np[idx])\n",
    "\n",
    "    def predict(self, X):\n",
    "      \n",
    "        return np.dot(X.to_numpy(), self.weights) + self.bias"
   ]
  },
  {
   "cell_type": "code",
   "execution_count": 81,
   "metadata": {},
   "outputs": [],
   "source": [
    "svm_regressor = MyLinearSVMRegressor(learning_rate=0.01, epochs=1000, C=0.1)\n",
    "svm_regressor.fit(X_train, y_train)\n",
    "y_pred5 = svm_regressor.predict(X_test)"
   ]
  },
  {
   "cell_type": "code",
   "execution_count": 82,
   "metadata": {},
   "outputs": [],
   "source": [
    "r2 = r2_score(y_test,y_pred5)"
   ]
  },
  {
   "cell_type": "code",
   "execution_count": 83,
   "metadata": {},
   "outputs": [],
   "source": [
    "new_index = len(df3)  \n",
    "df3.loc[new_index] = ['SVR', r2,\"learning_rate=0.01, epochs=1000, C=0.1\"]"
   ]
  },
  {
   "cell_type": "code",
   "execution_count": 84,
   "metadata": {},
   "outputs": [
    {
     "name": "stdout",
     "output_type": "stream",
     "text": [
      "                  Method  R2 Score                             Description\n",
      "0      Linear Regression  0.717608  learning_rate=0.01 and iterations=1000\n",
      "1    KNeighborsRegressor  0.461170                                     k=3\n",
      "2  DecisionTreeRegressor  0.106680            max_depth=3, random_state=42\n",
      "3  RandomForestRegressor  0.450850            n_estimators=10, max_depth=3\n",
      "4                    SVR -6.085796  learning_rate=0.01, epochs=1000, C=0.1\n"
     ]
    }
   ],
   "source": [
    "print(df3)"
   ]
  },
  {
   "cell_type": "code",
   "execution_count": 85,
   "metadata": {},
   "outputs": [],
   "source": [
    "class MyNeuralNetworkRegressor:\n",
    "    def __init__(self, input_dim, hidden_dim, output_dim=1, learning_rate=0.01, epochs=1000):\n",
    "        self.input_dim = input_dim\n",
    "        self.hidden_dim = hidden_dim\n",
    "        self.output_dim = output_dim\n",
    "        self.learning_rate = learning_rate\n",
    "        self.epochs = epochs\n",
    "\n",
    "        np.random.seed(42)\n",
    "        self.weights_input_to_hidden = np.random.randn(self.input_dim, self.hidden_dim) * 0.01\n",
    "        self.weights_hidden_to_output = np.random.randn(self.hidden_dim, self.output_dim) * 0.01\n",
    "        self.bias_hidden = np.zeros((1, self.hidden_dim))\n",
    "        self.bias_output = np.zeros((1, self.output_dim))\n",
    "\n",
    "    def fit(self, X, y):\n",
    "        for epoch in range(self.epochs):\n",
    "\n",
    "            hidden_layer_input = np.dot(X, self.weights_input_to_hidden) + self.bias_hidden\n",
    "            hidden_layer_output = np.tanh(hidden_layer_input)\n",
    "            output_layer_input = np.dot(hidden_layer_output, self.weights_hidden_to_output) + self.bias_output\n",
    "            y_pred = output_layer_input\n",
    "            \n",
    "      \n",
    "            loss = np.mean((y_pred - y) ** 2)\n",
    "            if epoch % 100 == 0:\n",
    "                print(f\"Epoch {epoch}, Loss: {loss}\")\n",
    "            \n",
    "         \n",
    "            d_loss_y_pred = 2 * (y_pred - y) / y.shape[0]\n",
    "            d_y_pred_output_w = hidden_layer_output\n",
    "            d_y_pred_output_b = 1\n",
    "            \n",
    "        \n",
    "            d_y_pred_hidden_output = self.weights_hidden_to_output\n",
    "            d_hidden_output_hidden_input = 1 - np.tanh(hidden_layer_input) ** 2\n",
    "       \n",
    "          \n",
    "            self.weights_hidden_to_output -= self.learning_rate * np.dot(d_y_pred_output_w.T, d_loss_y_pred)\n",
    "            self.bias_output -= self.learning_rate * np.sum(d_loss_y_pred, axis=0, keepdims=True)\n",
    "            \n",
    "         \n",
    "            d_loss_hidden_input = np.dot(d_loss_y_pred, d_y_pred_hidden_output.T) * d_hidden_output_hidden_input\n",
    "            self.weights_input_to_hidden -= self.learning_rate * np.dot(X.T, d_loss_hidden_input)\n",
    "            self.bias_hidden -= self.learning_rate * np.sum(d_loss_hidden_input, axis=0, keepdims=True)\n",
    "\n",
    "    def predict(self, X):\n",
    "  \n",
    "        hidden_layer_input = np.dot(X, self.weights_input_to_hidden) + self.bias_hidden\n",
    "        hidden_layer_output = np.tanh(hidden_layer_input)\n",
    "        output_layer_input = np.dot(hidden_layer_output, self.weights_hidden_to_output) + self.bias_output\n",
    "        y_pred = output_layer_input\n",
    "        return y_pred\n",
    "\n",
    "\n",
    "X_train_np = X_train.to_numpy()  \n",
    "y_train_np = y_train.to_numpy().reshape(-1, 1)  \n",
    "\n",
    "\n"
   ]
  },
  {
   "cell_type": "code",
   "execution_count": 86,
   "metadata": {},
   "outputs": [
    {
     "name": "stdout",
     "output_type": "stream",
     "text": [
      "Epoch 0, Loss: 610.9207543042243\n",
      "Epoch 100, Loss: 87.30863775437852\n",
      "Epoch 200, Loss: 87.30863775\n",
      "Epoch 300, Loss: 87.30863775\n",
      "Epoch 400, Loss: 87.30863775\n",
      "Epoch 500, Loss: 87.30863775\n",
      "Epoch 600, Loss: 87.30863775\n",
      "Epoch 700, Loss: 87.30863775\n",
      "Epoch 800, Loss: 87.30863775\n",
      "Epoch 900, Loss: 87.30863775\n"
     ]
    }
   ],
   "source": [
    "nn = MyNeuralNetworkRegressor(input_dim=X_train.shape[1], hidden_dim=5, learning_rate=0.01, epochs=1000)\n",
    "nn.fit(X_train_np, y_train_np)\n",
    "y_pred_nn = nn.predict(X_test.to_numpy())"
   ]
  },
  {
   "cell_type": "code",
   "execution_count": 87,
   "metadata": {},
   "outputs": [],
   "source": [
    "r2 = r2_score(y_test,y_pred_nn)"
   ]
  },
  {
   "cell_type": "code",
   "execution_count": 88,
   "metadata": {},
   "outputs": [],
   "source": [
    "new_index = len(df3)  \n",
    "df3.loc[new_index] = ['Nueral Network', r2,\"hidden_dim=5, learning_rate=0.01, epochs=1000\"]"
   ]
  },
  {
   "cell_type": "code",
   "execution_count": 89,
   "metadata": {},
   "outputs": [
    {
     "name": "stdout",
     "output_type": "stream",
     "text": [
      "                  Method  R2 Score  \\\n",
      "0      Linear Regression  0.717608   \n",
      "1    KNeighborsRegressor  0.461170   \n",
      "2  DecisionTreeRegressor  0.106680   \n",
      "3  RandomForestRegressor  0.450850   \n",
      "4                    SVR -6.085796   \n",
      "5         Nueral Network -0.038999   \n",
      "\n",
      "                                     Description  \n",
      "0         learning_rate=0.01 and iterations=1000  \n",
      "1                                            k=3  \n",
      "2                   max_depth=3, random_state=42  \n",
      "3                   n_estimators=10, max_depth=3  \n",
      "4         learning_rate=0.01, epochs=1000, C=0.1  \n",
      "5  hidden_dim=5, learning_rate=0.01, epochs=1000  \n"
     ]
    }
   ],
   "source": [
    "print(df3)"
   ]
  },
  {
   "cell_type": "code",
   "execution_count": 90,
   "metadata": {},
   "outputs": [
    {
     "data": {
      "image/png": "[encoded data removed]",
      "text/plain": [
       "<Figure size 1000x600 with 1 Axes>"
      ]
     },
     "metadata": {},
     "output_type": "display_data"
    }
   ],
   "source": [
    "import matplotlib.pyplot as plt\n",
    "\n",
    "methods = df3['Method'].tolist() \n",
    "r2_scores = df3['R2 Score'].tolist()\n",
    "\n",
    "plt.figure(figsize=(10, 6))\n",
    "plt.bar(methods, r2_scores, color='skyblue')\n",
    "plt.xlabel('Method')\n",
    "plt.ylabel('R2 Score')\n",
    "plt.title('Comparison of Regression Methods')\n",
    "plt.xticks(rotation=45)\n",
    "plt.ylim(min(r2_scores) - 1, max(r2_scores) + 1)\n",
    "plt.grid(True, which='both', linestyle='--', linewidth=0.5)\n",
    "plt.axhline(0, color='gray', linewidth=0.8)\n",
    "plt.show()"
   ]
  },
  {
   "cell_type": "code",
   "execution_count": 91,
   "metadata": {},
   "outputs": [
    {
     "name": "stdout",
     "output_type": "stream",
     "text": [
      "<class 'pandas.core.frame.DataFrame'>\n",
      "RangeIndex: 13932 entries, 0 to 13931\n",
      "Data columns (total 17 columns):\n",
      " #   Column             Non-Null Count  Dtype  \n",
      "---  ------             --------------  -----  \n",
      " 0   LATITUDE           13932 non-null  float64\n",
      " 1   LONGITUDE          13932 non-null  float64\n",
      " 2   PARCELNO           13932 non-null  int64  \n",
      " 3   SALE_PRC           13932 non-null  float64\n",
      " 4   LND_SQFOOT         13932 non-null  int64  \n",
      " 5   TOT_LVG_AREA       13932 non-null  int64  \n",
      " 6   SPEC_FEAT_VAL      13932 non-null  int64  \n",
      " 7   RAIL_DIST          13932 non-null  float64\n",
      " 8   OCEAN_DIST         13932 non-null  float64\n",
      " 9   WATER_DIST         13932 non-null  float64\n",
      " 10  CNTR_DIST          13932 non-null  float64\n",
      " 11  SUBCNTR_DI         13932 non-null  float64\n",
      " 12  HWY_DIST           13932 non-null  float64\n",
      " 13  age                13932 non-null  int64  \n",
      " 14  avno60plus         13932 non-null  int64  \n",
      " 15  month_sold         13932 non-null  int64  \n",
      " 16  structure_quality  13932 non-null  int64  \n",
      "dtypes: float64(9), int64(8)\n",
      "memory usage: 1.8 MB\n",
      "None\n"
     ]
    }
   ],
   "source": [
    "df1 = pd.read_csv('miami-housing.csv')\n",
    "print(df1.info())\n"
   ]
  },
  {
   "cell_type": "code",
   "execution_count": 92,
   "metadata": {},
   "outputs": [
    {
     "data": {
      "text/plain": [
       "LATITUDE             0\n",
       "LONGITUDE            0\n",
       "PARCELNO             0\n",
       "SALE_PRC             0\n",
       "LND_SQFOOT           0\n",
       "TOT_LVG_AREA         0\n",
       "SPEC_FEAT_VAL        0\n",
       "RAIL_DIST            0\n",
       "OCEAN_DIST           0\n",
       "WATER_DIST           0\n",
       "CNTR_DIST            0\n",
       "SUBCNTR_DI           0\n",
       "HWY_DIST             0\n",
       "age                  0\n",
       "avno60plus           0\n",
       "month_sold           0\n",
       "structure_quality    0\n",
       "dtype: int64"
      ]
     },
     "execution_count": 92,
     "metadata": {},
     "output_type": "execute_result"
    }
   ],
   "source": [
    "df1.isna().sum()"
   ]
  },
  {
   "cell_type": "code",
   "execution_count": 93,
   "metadata": {},
   "outputs": [],
   "source": [
    "X = df1.drop('SALE_PRC', axis = 1)\n",
    "y = df1['SALE_PRC']"
   ]
  },
  {
   "cell_type": "code",
   "execution_count": 94,
   "metadata": {},
   "outputs": [],
   "source": [
    "X_train, X_test, y_train, y_test = train_test_split(X,y,test_size = 0.2, random_state = 42)"
   ]
  },
  {
   "cell_type": "code",
   "execution_count": 95,
   "metadata": {},
   "outputs": [],
   "source": [
    "from sklearn.preprocessing import StandardScaler\n",
    "\n",
    "class MyLinearRegression:\n",
    "    def __init__(self, learning_rate=0.01, iterations=1000):\n",
    "        self.learning_rate = learning_rate\n",
    "        self.iterations = iterations\n",
    "        self.theta = None\n",
    "        self.scaler = StandardScaler() \n",
    "        \n",
    "    def fit(self, X, y):\n",
    "        X_scaled = self.scaler.fit_transform(X)  \n",
    "        m, n = X_scaled.shape\n",
    "        self.theta = np.zeros(n + 1)  \n",
    "        X_b = np.hstack([np.ones((m, 1)), X_scaled]) \n",
    " \n",
    "        for iteration in range(self.iterations):\n",
    "            predictions = X_b.dot(self.theta)\n",
    "            errors = predictions - y\n",
    "            gradients = 2/m * X_b.T.dot(errors)\n",
    "            self.theta -= self.learning_rate * gradients\n",
    "            if iteration % 100 == 0: \n",
    "                print(f\"Iteration {iteration}: Gradient norm = {np.linalg.norm(gradients)}\")\n",
    "\n",
    "    def predict(self, X_new):\n",
    "        X_new_scaled = self.scaler.transform(X_new) \n",
    "        X_new_b = np.hstack([np.ones((X_new_scaled.shape[0], 1)), X_new_scaled])\n",
    "        return X_new_b.dot(self.theta)"
   ]
  },
  {
   "cell_type": "code",
   "execution_count": 96,
   "metadata": {},
   "outputs": [
    {
     "name": "stdout",
     "output_type": "stream",
     "text": [
      "Iteration 0: Gradient norm = 1103043.4722429595\n",
      "Iteration 100: Gradient norm = 115514.60242068382\n",
      "Iteration 200: Gradient norm = 19160.49414918072\n",
      "Iteration 300: Gradient norm = 5920.629511617298\n",
      "Iteration 400: Gradient norm = 3553.8720271466987\n",
      "Iteration 500: Gradient norm = 2961.468768670781\n",
      "Iteration 600: Gradient norm = 2773.379215674339\n",
      "Iteration 700: Gradient norm = 2685.0128577912847\n",
      "Iteration 800: Gradient norm = 2623.260422288404\n",
      "Iteration 900: Gradient norm = 2569.742187894924\n"
     ]
    }
   ],
   "source": [
    "lr = MyLinearRegression()\n",
    "lr.fit(X_train,y_train)"
   ]
  },
  {
   "cell_type": "code",
   "execution_count": 97,
   "metadata": {},
   "outputs": [],
   "source": [
    "y_pred1 = lr.predict(X_test)"
   ]
  },
  {
   "cell_type": "code",
   "execution_count": 98,
   "metadata": {},
   "outputs": [],
   "source": [
    "r2 = r2_score(y_test,y_pred1)"
   ]
  },
  {
   "cell_type": "code",
   "execution_count": 99,
   "metadata": {},
   "outputs": [],
   "source": [
    "df4 = pd.DataFrame(columns=['Method', 'R2 Score',\"Description\"])"
   ]
  },
  {
   "cell_type": "code",
   "execution_count": 100,
   "metadata": {},
   "outputs": [],
   "source": [
    "new_index = len(df4)  \n",
    "df4.loc[new_index] = ['Linear Regression', r2,\"learning_rate=0.01, iterations=1000\"]"
   ]
  },
  {
   "cell_type": "code",
   "execution_count": 101,
   "metadata": {},
   "outputs": [
    {
     "name": "stdout",
     "output_type": "stream",
     "text": [
      "              Method  R2 Score                          Description\n",
      "0  Linear Regression  0.709414  learning_rate=0.01, iterations=1000\n"
     ]
    }
   ],
   "source": [
    "print(df4)"
   ]
  },
  {
   "cell_type": "code",
   "execution_count": 102,
   "metadata": {},
   "outputs": [],
   "source": [
    "\n",
    "\n",
    "class MyKNeighborsRegressor:\n",
    "    def __init__(self, k=3):\n",
    "        self.k = k\n",
    "\n",
    "    def fit(self, X, y):\n",
    "        self.X_train = X\n",
    "        self.y_train = y\n",
    "\n",
    "    def predict(self, X_test):\n",
    "        predictions = []\n",
    "        for index, test_row in X_test.iterrows():\n",
    "           \n",
    "            distances = np.sqrt(((self.X_train - test_row) ** 2).sum(axis=1))\n",
    "\n",
    "            k_indices = distances.nsmallest(self.k).index\n",
    "    \n",
    "            predictions.append(self.y_train.loc[k_indices].mean())\n",
    "        return pd.Series(predictions, index=X_test.index)\n",
    "\n",
    "\n"
   ]
  },
  {
   "cell_type": "code",
   "execution_count": 103,
   "metadata": {},
   "outputs": [],
   "source": [
    "knn = MyKNeighborsRegressor(k=3)\n",
    "\n",
    "knn.fit(X_train, y_train)\n",
    "y_pred2 = knn.predict(X_test)"
   ]
  },
  {
   "cell_type": "code",
   "execution_count": 104,
   "metadata": {},
   "outputs": [],
   "source": [
    "r2 = r2_score(y_test,y_pred2)"
   ]
  },
  {
   "cell_type": "code",
   "execution_count": 105,
   "metadata": {},
   "outputs": [],
   "source": [
    "new_index = len(df4)  \n",
    "df4.loc[new_index] = ['KNeighborsRegressor', r2,\"k = 3\"]\n"
   ]
  },
  {
   "cell_type": "code",
   "execution_count": 106,
   "metadata": {},
   "outputs": [
    {
     "name": "stdout",
     "output_type": "stream",
     "text": [
      "                Method  R2 Score                          Description\n",
      "0    Linear Regression  0.709414  learning_rate=0.01, iterations=1000\n",
      "1  KNeighborsRegressor  0.749818                                k = 3\n"
     ]
    }
   ],
   "source": [
    "print(df4)"
   ]
  },
  {
   "cell_type": "code",
   "execution_count": 107,
   "metadata": {},
   "outputs": [],
   "source": [
    "class MyDecisionTreeRegressor:\n",
    "    def __init__(self, max_depth=3, random_state=None):\n",
    "        self.max_depth = max_depth\n",
    "        self.random_state = random_state\n",
    "        self.tree = {}\n",
    "\n",
    "    def fit(self, X, y):\n",
    "        data = X.copy()\n",
    "        data['target'] = y\n",
    "        self.tree = self._build_tree(data, depth=0)\n",
    "\n",
    "    def _build_tree(self, data, depth):\n",
    "        if depth >= self.max_depth or len(data) <= 2:\n",
    "            return {'value': data['target'].mean()}\n",
    "\n",
    "        best_feature, best_value = self._best_split(data)\n",
    "\n",
    "        left_split = data[data[best_feature] <= best_value]\n",
    "        right_split = data[data[best_feature] > best_value]\n",
    "\n",
    "        left_tree = self._build_tree(left_split, depth + 1)\n",
    "        right_tree = self._build_tree(right_split, depth + 1)\n",
    "\n",
    "        return {'feature': best_feature, 'value': best_value, 'left': left_tree, 'right': right_tree}\n",
    "\n",
    "    def _best_split(self, data):\n",
    "        best_variance = float('inf')\n",
    "        best_feature = None\n",
    "        best_value = None\n",
    "\n",
    "        for feature in data.columns[:-1]: \n",
    "            value = data[feature].median()\n",
    "            left_split = data[data[feature] <= value]\n",
    "            right_split = data[data[feature] > value]\n",
    "            variance = self._calculate_variance_reduction(data['target'], left_split['target'], right_split['target'])\n",
    "\n",
    "            if variance < best_variance:\n",
    "                best_variance = variance\n",
    "                best_feature = feature\n",
    "                best_value = value\n",
    "\n",
    "        return best_feature, best_value\n",
    "\n",
    "    def _calculate_variance_reduction(self, overall_target, left_target, right_target):\n",
    "        weight_left = len(left_target) / len(overall_target)\n",
    "        weight_right = len(right_target) / len(overall_target)\n",
    "        variance_reduction = overall_target.var() - (weight_left * left_target.var() + weight_right * right_target.var())\n",
    "        return variance_reduction\n",
    "\n",
    "    def predict(self, X):\n",
    "        predictions = X.apply(self._predict_single, axis=1)\n",
    "        return predictions\n",
    "\n",
    "    def _predict_single(self, x):\n",
    "        node = self.tree\n",
    "        while 'feature' in node:\n",
    "            if x[node['feature']] <= node['value']:\n",
    "                node = node['left']\n",
    "            else:\n",
    "                node = node['right']\n",
    "        return node['value']"
   ]
  },
  {
   "cell_type": "code",
   "execution_count": 108,
   "metadata": {},
   "outputs": [],
   "source": [
    "tree = MyDecisionTreeRegressor(max_depth=3, random_state=42)\n",
    "tree.fit(X_train, y_train)"
   ]
  },
  {
   "cell_type": "code",
   "execution_count": 111,
   "metadata": {},
   "outputs": [],
   "source": [
    "y_pred3 = tree.predict(X_test)"
   ]
  },
  {
   "cell_type": "code",
   "execution_count": 112,
   "metadata": {},
   "outputs": [],
   "source": [
    "new_index = len(df4)  \n",
    "df4.loc[new_index] = ['DecisionTreeRegressor', r2,\"max_depth=3, random_state=42\"]"
   ]
  },
  {
   "cell_type": "code",
   "execution_count": 113,
   "metadata": {},
   "outputs": [
    {
     "name": "stdout",
     "output_type": "stream",
     "text": [
      "                  Method  R2 Score                          Description\n",
      "0      Linear Regression  0.709414  learning_rate=0.01, iterations=1000\n",
      "1    KNeighborsRegressor  0.749818                                k = 3\n",
      "2  DecisionTreeRegressor  0.749818         max_depth=3, random_state=42\n"
     ]
    }
   ],
   "source": [
    "print(df4)"
   ]
  },
  {
   "cell_type": "code",
   "execution_count": 114,
   "metadata": {},
   "outputs": [],
   "source": [
    "from sklearn.utils import resample\n",
    "\n",
    "class MyDecisionTreeRegressor:\n",
    "    def __init__(self, max_depth=3):\n",
    "        self.max_depth = max_depth\n",
    "        self.tree = {}\n",
    "\n",
    "    def fit(self, X, y):\n",
    "       \n",
    "        data = pd.concat([X, y.rename('target')], axis=1)  \n",
    "        self.tree = self._build_tree(data, 0)\n",
    "\n",
    "    def _build_tree(self, data, depth):\n",
    "        if depth >= self.max_depth or data.shape[0] <= 1:\n",
    "            return {'value': data['target'].mean()}\n",
    "        else:\n",
    "            best_feature, best_threshold = self._find_best_split(data)\n",
    "            left = data[data[best_feature] <= best_threshold]\n",
    "            right = data[data[best_feature] > best_threshold]\n",
    "            return {\n",
    "                'feature': best_feature,\n",
    "                'threshold': best_threshold,\n",
    "                'left': self._build_tree(left, depth + 1),\n",
    "                'right': self._build_tree(right, depth + 1)\n",
    "            }\n",
    "\n",
    "    def _find_best_split(self, data):\n",
    "        best_feature = np.random.choice(data.columns[:-1])\n",
    "        best_threshold = data[best_feature].median()\n",
    "        return best_feature, best_threshold\n",
    "\n",
    "    def predict(self, X):\n",
    "        results = [self._predict_row(row, self.tree) for _, row in X.iterrows()]\n",
    "        return np.array(results)\n",
    "\n",
    "    def _predict_row(self, row, node):\n",
    "        if 'value' in node:\n",
    "            return node['value']\n",
    "        if row[node['feature']] <= node['threshold']:\n",
    "            return self._predict_row(row, node['left'])\n",
    "        else:\n",
    "            return self._predict_row(row, node['right'])\n",
    "\n",
    "class MyRandomForestRegressor:\n",
    "    def __init__(self, n_estimators=10, max_depth=3):\n",
    "        self.n_estimators = n_estimators\n",
    "        self.max_depth = max_depth\n",
    "        self.trees = []\n",
    "\n",
    "    def fit(self, X, y):\n",
    "        for _ in range(self.n_estimators):\n",
    "            sample_X, sample_y = resample(X, y)\n",
    "            tree = MyDecisionTreeRegressor(max_depth=self.max_depth)\n",
    "            tree.fit(sample_X, sample_y)\n",
    "            self.trees.append(tree)\n",
    "\n",
    "    def predict(self, X):\n",
    "        tree_preds = [tree.predict(X) for tree in self.trees]\n",
    "        return np.mean(tree_preds, axis=0)\n"
   ]
  },
  {
   "cell_type": "code",
   "execution_count": 115,
   "metadata": {},
   "outputs": [],
   "source": [
    "rf_regressor = MyRandomForestRegressor(n_estimators=10, max_depth=3)\n",
    "rf_regressor.fit(X_train, y_train)"
   ]
  },
  {
   "cell_type": "code",
   "execution_count": 116,
   "metadata": {},
   "outputs": [],
   "source": [
    "y_pred4 = rf_regressor.predict(X_test)"
   ]
  },
  {
   "cell_type": "code",
   "execution_count": 117,
   "metadata": {},
   "outputs": [
    {
     "name": "stdout",
     "output_type": "stream",
     "text": [
      "NaNs in predictions: False\n",
      "NaNs in test labels: False\n",
      "R^2 score: 0.27946497781075297\n"
     ]
    }
   ],
   "source": [
    "nan_in_pred = np.isnan(y_pred4).any()\n",
    "nan_in_test = np.isnan(y_test).any()\n",
    "\n",
    "print(\"NaNs in predictions:\", nan_in_pred)\n",
    "print(\"NaNs in test labels:\", nan_in_test)\n",
    "\n",
    "\n",
    "if nan_in_pred or nan_in_test:\n",
    "    valid_indices = ~np.isnan(y_pred4) & ~np.isnan(y_test)\n",
    "    y_pred_clean = y_pred4[valid_indices]\n",
    "    y_test_clean = y_test[valid_indices]\n",
    "else:\n",
    "    y_pred_clean = y_pred4\n",
    "    y_test_clean = y_test\n",
    "\n",
    "r2 = r2_score(y_test_clean, y_pred_clean)\n",
    "print(\"R^2 score:\", r2)\n"
   ]
  },
  {
   "cell_type": "code",
   "execution_count": 118,
   "metadata": {},
   "outputs": [],
   "source": [
    "new_index = len(df4)  \n",
    "df4.loc[new_index] = ['RandomForestRegressor', r2,\"n_estimators=10, max_depth=3\"]"
   ]
  },
  {
   "cell_type": "code",
   "execution_count": 119,
   "metadata": {},
   "outputs": [
    {
     "name": "stdout",
     "output_type": "stream",
     "text": [
      "                  Method  R2 Score                          Description\n",
      "0      Linear Regression  0.709414  learning_rate=0.01, iterations=1000\n",
      "1    KNeighborsRegressor  0.749818                                k = 3\n",
      "2  DecisionTreeRegressor  0.749818         max_depth=3, random_state=42\n",
      "3  RandomForestRegressor  0.279465         n_estimators=10, max_depth=3\n"
     ]
    }
   ],
   "source": [
    "print(df4)"
   ]
  },
  {
   "cell_type": "code",
   "execution_count": 120,
   "metadata": {},
   "outputs": [],
   "source": [
    "class MyLinearSVMRegressor:\n",
    "    def __init__(self, learning_rate=0.01, epochs=1000, C=1.0):\n",
    "        self.learning_rate = learning_rate\n",
    "        self.epochs = epochs\n",
    "        self.C = C \n",
    "        self.weights = None\n",
    "        self.bias = 0\n",
    "\n",
    "    def fit(self, X, y):\n",
    "        n_samples, n_features = X.shape\n",
    "        self.weights = np.zeros(n_features)\n",
    "\n",
    "        X_np = X.to_numpy()\n",
    "        y_np = y.to_numpy()\n",
    "\n",
    "        for _ in range(self.epochs):\n",
    "            for idx, x_i in enumerate(X_np):\n",
    "                condition = y_np[idx] - np.dot(x_i, self.weights) - self.bias\n",
    "                if condition > 1:\n",
    "                    self.weights -= self.learning_rate * (2 * self.C * self.weights)\n",
    "                    self.bias -= self.learning_rate * (2 * self.C * self.bias)\n",
    "                else:\n",
    "                    self.weights -= self.learning_rate * (2 * self.C * self.weights - np.dot(x_i, y_np[idx]))\n",
    "                    self.bias -= self.learning_rate * (2 * self.C * self.bias - y_np[idx])\n",
    "\n",
    "    def predict(self, X):\n",
    "      \n",
    "        return np.dot(X.to_numpy(), self.weights) + self.bias"
   ]
  },
  {
   "cell_type": "code",
   "execution_count": 121,
   "metadata": {},
   "outputs": [],
   "source": [
    "svm_regressor = MyLinearSVMRegressor(learning_rate=0.01, epochs=1000, C=0.1)\n",
    "svm_regressor.fit(X_train, y_train)\n",
    "y_pred5 = svm_regressor.predict(X_test)"
   ]
  },
  {
   "cell_type": "code",
   "execution_count": 122,
   "metadata": {},
   "outputs": [],
   "source": [
    "y_pred5 = svm_regressor.predict(X_test)"
   ]
  },
  {
   "cell_type": "code",
   "execution_count": 123,
   "metadata": {},
   "outputs": [],
   "source": [
    "r2 = r2_score(y_test,y_pred5)"
   ]
  },
  {
   "cell_type": "code",
   "execution_count": 124,
   "metadata": {},
   "outputs": [],
   "source": [
    "new_index = len(df4)  \n",
    "df4.loc[new_index] = ['SVR', r2,\"learning_rate=0.01, epochs=1000, C=0.1\"]"
   ]
  },
  {
   "cell_type": "code",
   "execution_count": 125,
   "metadata": {},
   "outputs": [
    {
     "name": "stdout",
     "output_type": "stream",
     "text": [
      "                  Method  R2 Score                             Description\n",
      "0      Linear Regression  0.709414     learning_rate=0.01, iterations=1000\n",
      "1    KNeighborsRegressor  0.749818                                   k = 3\n",
      "2  DecisionTreeRegressor  0.749818            max_depth=3, random_state=42\n",
      "3  RandomForestRegressor  0.279465            n_estimators=10, max_depth=3\n",
      "4                    SVR -1.635693  learning_rate=0.01, epochs=1000, C=0.1\n"
     ]
    }
   ],
   "source": [
    "print(df4)"
   ]
  },
  {
   "cell_type": "code",
   "execution_count": 127,
   "metadata": {},
   "outputs": [],
   "source": [
    "class MyNeuralNetworkRegressor:\n",
    "    def __init__(self, input_dim, hidden_dim, output_dim=1, learning_rate=0.01, epochs=1000):\n",
    "        self.input_dim = input_dim\n",
    "        self.hidden_dim = hidden_dim\n",
    "        self.output_dim = output_dim\n",
    "        self.learning_rate = learning_rate\n",
    "        self.epochs = epochs\n",
    "\n",
    "        np.random.seed(42)\n",
    "        self.weights_input_to_hidden = np.random.randn(self.input_dim, self.hidden_dim) * 0.01\n",
    "        self.weights_hidden_to_output = np.random.randn(self.hidden_dim, self.output_dim) * 0.01\n",
    "        self.bias_hidden = np.zeros((1, self.hidden_dim))\n",
    "        self.bias_output = np.zeros((1, self.output_dim))\n",
    "\n",
    "    def fit(self, X, y):\n",
    "        for epoch in range(self.epochs):\n",
    "\n",
    "            hidden_layer_input = np.dot(X, self.weights_input_to_hidden) + self.bias_hidden\n",
    "            hidden_layer_output = np.tanh(hidden_layer_input)\n",
    "            output_layer_input = np.dot(hidden_layer_output, self.weights_hidden_to_output) + self.bias_output\n",
    "            y_pred = output_layer_input\n",
    "            \n",
    "      \n",
    "            loss = np.mean((y_pred - y) ** 2)\n",
    "            if epoch % 100 == 0:\n",
    "                print(f\"Epoch {epoch}, Loss: {loss}\")\n",
    "            \n",
    "         \n",
    "            d_loss_y_pred = 2 * (y_pred - y) / y.shape[0]\n",
    "            d_y_pred_output_w = hidden_layer_output\n",
    "            d_y_pred_output_b = 1\n",
    "            \n",
    "        \n",
    "            d_y_pred_hidden_output = self.weights_hidden_to_output\n",
    "            d_hidden_output_hidden_input = 1 - np.tanh(hidden_layer_input) ** 2\n",
    "       \n",
    "          \n",
    "            self.weights_hidden_to_output -= self.learning_rate * np.dot(d_y_pred_output_w.T, d_loss_y_pred)\n",
    "            self.bias_output -= self.learning_rate * np.sum(d_loss_y_pred, axis=0, keepdims=True)\n",
    "            \n",
    "         \n",
    "            d_loss_hidden_input = np.dot(d_loss_y_pred, d_y_pred_hidden_output.T) * d_hidden_output_hidden_input\n",
    "            self.weights_input_to_hidden -= self.learning_rate * np.dot(X.T, d_loss_hidden_input)\n",
    "            self.bias_hidden -= self.learning_rate * np.sum(d_loss_hidden_input, axis=0, keepdims=True)\n",
    "\n",
    "    def predict(self, X):\n",
    "  \n",
    "        hidden_layer_input = np.dot(X, self.weights_input_to_hidden) + self.bias_hidden\n",
    "        hidden_layer_output = np.tanh(hidden_layer_input)\n",
    "        output_layer_input = np.dot(hidden_layer_output, self.weights_hidden_to_output) + self.bias_output\n",
    "        y_pred = output_layer_input\n",
    "        return y_pred\n",
    "\n",
    "\n",
    "X_train_np = X_train.to_numpy()  \n",
    "y_train_np = y_train.to_numpy().reshape(-1, 1)  \n"
   ]
  },
  {
   "cell_type": "code",
   "execution_count": 128,
   "metadata": {},
   "outputs": [
    {
     "name": "stdout",
     "output_type": "stream",
     "text": [
      "Epoch 0, Loss: 260830244445.61426\n",
      "Epoch 100, Loss: 101154465155.89134\n",
      "Epoch 200, Loss: 101154465154.63306\n",
      "Epoch 300, Loss: 101154465154.63304\n",
      "Epoch 400, Loss: 101154465154.63304\n",
      "Epoch 500, Loss: 101154465154.63304\n",
      "Epoch 600, Loss: 101154465154.63304\n",
      "Epoch 700, Loss: 101154465154.63304\n",
      "Epoch 800, Loss: 101154465154.63304\n",
      "Epoch 900, Loss: 101154465154.63304\n"
     ]
    }
   ],
   "source": [
    "nn = MyNeuralNetworkRegressor(input_dim=X_train.shape[1], hidden_dim=5, learning_rate=0.01, epochs=1000)\n",
    "nn.fit(X_train_np, y_train_np)\n",
    "y_pred_nn = nn.predict(X_test.to_numpy())"
   ]
  },
  {
   "cell_type": "code",
   "execution_count": 129,
   "metadata": {},
   "outputs": [],
   "source": [
    "r2 = r2_score(y_test,y_pred_nn)"
   ]
  },
  {
   "cell_type": "code",
   "execution_count": 130,
   "metadata": {},
   "outputs": [],
   "source": [
    "new_index = len(df4)  \n",
    "df4.loc[new_index] = ['Nueral Network', r2,\"hidden_dim=5, learning_rate=0.01, epochs=1000\"]"
   ]
  },
  {
   "cell_type": "code",
   "execution_count": 131,
   "metadata": {},
   "outputs": [
    {
     "name": "stdout",
     "output_type": "stream",
     "text": [
      "                  Method  R2 Score  \\\n",
      "0      Linear Regression  0.709414   \n",
      "1    KNeighborsRegressor  0.749818   \n",
      "2  DecisionTreeRegressor  0.749818   \n",
      "3  RandomForestRegressor  0.279465   \n",
      "4                    SVR -1.635693   \n",
      "5         Nueral Network -0.000031   \n",
      "\n",
      "                                     Description  \n",
      "0            learning_rate=0.01, iterations=1000  \n",
      "1                                          k = 3  \n",
      "2                   max_depth=3, random_state=42  \n",
      "3                   n_estimators=10, max_depth=3  \n",
      "4         learning_rate=0.01, epochs=1000, C=0.1  \n",
      "5  hidden_dim=5, learning_rate=0.01, epochs=1000  \n"
     ]
    }
   ],
   "source": [
    "print(df4)"
   ]
  },
  {
   "cell_type": "code",
   "execution_count": 132,
   "metadata": {},
   "outputs": [
    {
     "data": {
      "image/png": "[encoded data removed]",
      "text/plain": [
       "<Figure size 1000x600 with 1 Axes>"
      ]
     },
     "metadata": {},
     "output_type": "display_data"
    }
   ],
   "source": [
    "import matplotlib.pyplot as plt\n",
    "\n",
    "methods = df4['Method'].tolist() \n",
    "r2_scores = df4['R2 Score'].tolist()\n",
    "\n",
    "plt.figure(figsize=(10, 6))\n",
    "plt.bar(methods, r2_scores, color='skyblue')\n",
    "plt.xlabel('Method')\n",
    "plt.ylabel('R2 Score')\n",
    "plt.title('Comparison of Regression Methods')\n",
    "plt.xticks(rotation=45)\n",
    "plt.ylim(min(r2_scores) - 1, max(r2_scores) + 1)\n",
    "plt.grid(True, which='both', linestyle='--', linewidth=0.5)\n",
    "plt.axhline(0, color='gray', linewidth=0.8)\n",
    "plt.show()"
   ]
  },
  {
   "cell_type": "code",
   "execution_count": null,
   "metadata": {},
   "outputs": [],
   "source": []
  }
 ],
 "metadata": {
  "kernelspec": {
   "display_name": "Python 3 (ipykernel)",
   "language": "python",
   "name": "python3"
  },
  "language_info": {
   "codemirror_mode": {
    "name": "ipython",
    "version": 3
   },
   "file_extension": ".py",
   "mimetype": "text/x-python",
   "name": "python",
   "nbconvert_exporter": "python",
   "pygments_lexer": "ipython3",
   "version": "3.11.5"
  }
 },
 "nbformat": 4,
 "nbformat_minor": 2
}
