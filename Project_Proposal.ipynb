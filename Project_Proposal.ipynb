{
 "cells": [
  {
   "cell_type": "markdown",
   "id": "c43b3c73",
   "metadata": {},
   "source": [
    "Hussain Ameen ,\n",
    "Bharadwaj Sarthak \n"
   ]
  },
  {
   "cell_type": "markdown",
   "id": "88075b40",
   "metadata": {},
   "source": [
    "# Introduction"
   ]
  },
  {
   "cell_type": "markdown",
   "id": "0833b346",
   "metadata": {},
   "source": [
    "In this project, we aim to explore the effectiveness of various machine learning algorithms in predicting housing prices using two different datasets from Kaggle. The key questions we seek to answer are:<br>\n",
    "Which machine learning algorithm among random forest, KNN, Naive Bayes, logistic regression, and decision trees performs the best in terms of predictive accuracy for housing price prediction?<br>\n",
    "How does the performance of these algorithms vary across different housing price datasets? What are the most important features that contribute to the prediction of housing prices? Hypotheses:<br>\n",
    "We hypothesize that random forest and decision trees will outperform other algorithms due to their ability to handle complex relationships and capture non-linear patterns in the data.\n",
    "We expect that the performance of the algorithms may vary across different datasets due to differences in data quality, feature availability, and underlying patterns.\n",
    "We anticipate that features such as location, property size, and number of bedrooms will be among the most important predictors of housing prices.<br>"
   ]
  },
  {
   "cell_type": "markdown",
   "id": "c733543c",
   "metadata": {},
   "source": [
    "# Methods"
   ]
  },
  {
   "cell_type": "markdown",
   "id": "44394e97",
   "metadata": {},
   "source": [
    "We are undertaking this project to gain a better understanding of the effectiveness of different machine learning algorithms in predicting housing prices and to identify the key factors that influence housing prices. The steps we will take to complete the project are as follows:<br>\n",
    "Data preprocessing: We will download the two housing price datasets from Kaggle and preprocess the data by handling missing values, encoding categorical variables, and scaling numerical features.<br>\n",
    "Feature selection: We will explore the datasets to identify the most relevant features for housing price prediction using techniques such as correlation analysis and domain knowledge.<br>\n",
    "MIAMI HOUSING:- https://www.kaggle.com/datasets/deepcontractor/miami-housing-dataset and<br>\n",
    "BOSTON HOUSING:- https://www.kaggle.com/datasets/arunjangir245/boston-housing-dataset <br>\n",
    "Model training and evaluation: We will split the datasets into training and testing sets, and train the selected machine learning algorithms (random forest, KNN, Naive Bayes, logistic regression, and decision trees) using the training data. We will then evaluate the performance of each algorithm using appropriate metrics such as mean squared error, root mean squared error, and R-squared on the testing data.<br>\n",
    "Model comparison: We will compare the performance of the different algorithms across both datasets to identify the best-performing algorithm for housing price prediction.<br>\n",
    "Feature importance analysis: We will analyze the importance of different features in predicting housing prices using techniques such as permutation importance and feature importance scores provided by the algorithms.\n",
    "The code for data preprocessing, model training, and evaluation will be implemented using Python and popular machine learning libraries such as scikit-learn and pandas. We will not be defining new algorithms, but rather using the existing implementations provided by these libraries.<br>"
   ]
  },
  {
   "cell_type": "markdown",
   "id": "f1f9d87e",
   "metadata": {},
   "source": [
    "# Work division:"
   ]
  },
  {
   "cell_type": "markdown",
   "id": "188454f2",
   "metadata": {},
   "source": [
    "Team member 1 will be responsible for data preprocessing and feature selection.<br>\n",
    "Team member 2 will be responsible for model training, evaluation, and comparison.<br>\n",
    "Both team members will collaborate on feature importance analysis and interpretation of results. Possible Results\n",
    "Based on our hypotheses, we expect the following possible results:<br>\n",
    "Random forest and decision trees may outperform other algorithms in terms of predictive accuracy for housing price prediction, due to their ability to capture complex relationships and non-linear patterns in the data.<br>\n",
    "The performance of the algorithms may vary across the two datasets, with some algorithms performing better on one dataset compared to the other, depending on the data quality, feature availability, and underlying patterns.<br>\n",
    "Location, property size, and number of bedrooms may emerge as the most important features in predicting housing prices, based on their strong correlation with housing prices and domain knowledge.<br>"
   ]
  },
  {
   "cell_type": "markdown",
   "id": "39d183ca",
   "metadata": {},
   "source": [
    "# Timeline"
   ]
  },
  {
   "cell_type": "markdown",
   "id": "e8efdfd6",
   "metadata": {},
   "source": [
    "April 15th: Download and preprocess the housing price datasets, and perform initial exploratory data analysis. (Team member 1)<br>\n",
    "April 22nd: Complete feature selection and prepare the data for model training. (Team member 2)<br>\n",
    "April 29th: Train and evaluate the selected machine learning algorithms on both datasets. (Both team members)<br>\n",
    "May 6th: Compare the performance of the algorithms across datasets and conduct feature importance analysis. (Both team members)<br>\n",
    "May 13th: Prepare the final report summarizing the findings, methodology, and conclusions. (Both team members)<br>"
   ]
  },
  {
   "cell_type": "code",
   "execution_count": null,
   "id": "bf3e06ab",
   "metadata": {},
   "outputs": [],
   "source": []
  }
 ],
 "metadata": {
  "kernelspec": {
   "display_name": "Python 3 (ipykernel)",
   "language": "python",
   "name": "python3"
  },
  "language_info": {
   "codemirror_mode": {
    "name": "ipython",
    "version": 3
   },
   "file_extension": ".py",
   "mimetype": "text/x-python",
   "name": "python",
   "nbconvert_exporter": "python",
   "pygments_lexer": "ipython3",
   "version": "3.11.5"
  }
 },
 "nbformat": 4,
 "nbformat_minor": 5
}
